{
 "cells": [
  {
   "cell_type": "markdown",
   "id": "3f8aa134-8f53-4f53-944b-2e1398347177",
   "metadata": {},
   "source": [
    "# Data Science Tools and Ecosystem"
   ]
  },
  {
   "cell_type": "markdown",
   "id": "517a9c39-040b-4572-b49c-64ff4faf541b",
   "metadata": {},
   "source": [
    "In this notebook, Data Science Tools and Ecosystem are summarized."
   ]
  },
  {
   "cell_type": "markdown",
   "id": "e045696b-b8ad-49b7-81cb-c006af2ac684",
   "metadata": {},
   "source": [
    "__Objetives:__\n",
    "* List popular languages for Data Science\n",
    "* List commonly used libraries used by Data Scientists\n",
    "* List popular Data Science Tools\n",
    "* Review a few examples of evaluating arithmetic expressions in Python"
   ]
  },
  {
   "cell_type": "markdown",
   "id": "c284711a-8988-4ed4-9343-c343b27221da",
   "metadata": {},
   "source": [
    "Some of the popular languages that Data Scientists use are:\n",
    "* Phyton\n",
    "* R\n",
    "* SQL"
   ]
  },
  {
   "cell_type": "markdown",
   "id": "10c417a2-9521-488b-ad5c-4a63c931c7fe",
   "metadata": {},
   "source": [
    "Some of the commonly used libraries used by Data Scientists include:\n",
    "    \n",
    "1. pandas for data manipulation.\n",
    "2. NumPy for numerical operations.\n",
    "3. Scikit-learn for machine learning.\n",
    "4. TensorFlow and PyTorch for deep learning.\n",
    "5. matplotlib and seaborn for data visualization."
   ]
  },
  {
   "cell_type": "markdown",
   "id": "8137fa4e-745f-400b-8cc7-4246dea7baff",
   "metadata": {},
   "source": [
    "|Data Science Tools|Description|\n",
    "|------------------|-----------|\n",
    "|Jupyter Notebook|Ideal for interactive data analysis and visualization.|\n",
    "|RStudio|A powerful IDE for R and R Markdown documents|\n",
    "|Visual Studio Code (VS Code)|Versatile and supports multiple languages with extensions for data science.|\n"
   ]
  },
  {
   "cell_type": "markdown",
   "id": "191222d7-756f-4734-b7fb-7ffda61644d5",
   "metadata": {},
   "source": [
    "### Below are a few examples of evaluating arithmetic expressions in Python"
   ]
  },
  {
   "cell_type": "markdown",
   "id": "293f5e9c-3050-42a4-a1d5-40464088fa00",
   "metadata": {},
   "source": [
    "_This a simple arithmetic expression to mutiply then add integers_"
   ]
  },
  {
   "cell_type": "code",
   "execution_count": 1,
   "id": "30d02e86-5ff6-4949-aeb3-a9836605e3fa",
   "metadata": {},
   "outputs": [
    {
     "data": {
      "text/plain": [
       "17"
      ]
     },
     "execution_count": 1,
     "metadata": {},
     "output_type": "execute_result"
    }
   ],
   "source": [
    "(3*4)+5"
   ]
  },
  {
   "cell_type": "markdown",
   "id": "f28b2a11-d2a1-4cbe-a8c4-13a6e8304310",
   "metadata": {},
   "source": [
    "_This will convert 200 minutes to hours by diving by 60_"
   ]
  },
  {
   "cell_type": "code",
   "execution_count": 6,
   "id": "ee86479e-4c71-4f7e-9323-ca8c2b16ed49",
   "metadata": {},
   "outputs": [
    {
     "name": "stdout",
     "output_type": "stream",
     "text": [
      "3.33 hrs\n"
     ]
    }
   ],
   "source": [
    "minutes = 200\n",
    "hours = round(minutes / 60, 2)\n",
    "print(hours, \"hrs\")\n"
   ]
  },
  {
   "cell_type": "markdown",
   "id": "e1491af9-9121-4e5f-8dcf-953a525eadc4",
   "metadata": {},
   "source": [
    "## Author\n",
    "Federico Franco Urrueta"
   ]
  },
  {
   "cell_type": "code",
   "execution_count": null,
   "id": "d03c566c-9897-4578-9836-d4af76051df7",
   "metadata": {},
   "outputs": [],
   "source": []
  }
 ],
 "metadata": {
  "kernelspec": {
   "display_name": "Python 3 (ipykernel)",
   "language": "python",
   "name": "python3"
  },
  "language_info": {
   "codemirror_mode": {
    "name": "ipython",
    "version": 3
   },
   "file_extension": ".py",
   "mimetype": "text/x-python",
   "name": "python",
   "nbconvert_exporter": "python",
   "pygments_lexer": "ipython3",
   "version": "3.7.1"
  }
 },
 "nbformat": 4,
 "nbformat_minor": 5
}
